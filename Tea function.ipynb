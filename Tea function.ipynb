{
  "nbformat": 4,
  "nbformat_minor": 0,
  "metadata": {
    "colab": {
      "provenance": [],
      "authorship_tag": "ABX9TyNTvlQYdr23cq13fQE7MTY5",
      "include_colab_link": true
    },
    "kernelspec": {
      "name": "python3",
      "display_name": "Python 3"
    },
    "language_info": {
      "name": "python"
    }
  },
  "cells": [
    {
      "cell_type": "markdown",
      "metadata": {
        "id": "view-in-github",
        "colab_type": "text"
      },
      "source": [
        "<a href=\"https://colab.research.google.com/github/KE-378/125/blob/main/Tea%20function.ipynb\" target=\"_parent\"><img src=\"https://colab.research.google.com/assets/colab-badge.svg\" alt=\"Open In Colab\"/></a>"
      ]
    },
    {
      "cell_type": "code",
      "execution_count": null,
      "metadata": {
        "id": "yTxgCRnvGivN"
      },
      "outputs": [],
      "source": []
    },
    {
      "cell_type": "code",
      "source": [],
      "metadata": {
        "id": "JUF2v5sUGqRu"
      },
      "execution_count": 1,
      "outputs": []
    },
    {
      "cell_type": "markdown",
      "source": [
        "Lets make a tea by using function"
      ],
      "metadata": {
        "id": "Cw7z1ITH-Bj0"
      }
    },
    {
      "cell_type": "code",
      "source": [
        "def tea_phoppo():\n",
        "  print(\"Milk\")\n",
        "  print(\"water\")\n",
        "  print(\"sugar\")\n",
        "  print(\"Patti\")\n",
        "  return \"serve\"\n",
        "tea_1 = tea_phoppo()\n",
        "print(f\" tea_1:{tea_1} to phoppo\")\n",
        "\n",
        "def tea_khala():\n",
        "  print(\"Milk\")\n",
        "  print(\"water\")\n",
        "  print(\"Patti\")\n",
        "  return \"serve\"\n",
        "tea_2 = tea_khala()\n",
        "print(f\" tea_2:{tea_2} to khala\")\n",
        "\n",
        "\n"
      ],
      "metadata": {
        "colab": {
          "base_uri": "https://localhost:8080/"
        },
        "id": "LEkfsb1A-JB5",
        "outputId": "7d2bb576-0e4e-47ce-f732-4301b44ce283"
      },
      "execution_count": 26,
      "outputs": [
        {
          "output_type": "stream",
          "name": "stdout",
          "text": [
            "Milk\n",
            "water\n",
            "sugar\n",
            "Patti\n",
            " tea_1:serve to phoppo\n",
            "Milk\n",
            "water\n",
            "Patti\n",
            " tea_2:serve to khala\n"
          ]
        }
      ]
    },
    {
      "cell_type": "code",
      "source": [],
      "metadata": {
        "id": "ekEoKDr8H5pp"
      },
      "execution_count": null,
      "outputs": []
    }
  ]
}