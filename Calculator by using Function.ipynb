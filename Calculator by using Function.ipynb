{
  "nbformat": 4,
  "nbformat_minor": 0,
  "metadata": {
    "colab": {
      "provenance": [],
      "authorship_tag": "ABX9TyOmndAXpXppZyWE4ZvqJc5j",
      "include_colab_link": true
    },
    "kernelspec": {
      "name": "python3",
      "display_name": "Python 3"
    },
    "language_info": {
      "name": "python"
    }
  },
  "cells": [
    {
      "cell_type": "markdown",
      "metadata": {
        "id": "view-in-github",
        "colab_type": "text"
      },
      "source": [
        "<a href=\"https://colab.research.google.com/github/KE-378/125/blob/main/Calculator%20by%20using%20Function.ipynb\" target=\"_parent\"><img src=\"https://colab.research.google.com/assets/colab-badge.svg\" alt=\"Open In Colab\"/></a>"
      ]
    },
    {
      "cell_type": "code",
      "execution_count": null,
      "metadata": {
        "id": "yTxgCRnvGivN"
      },
      "outputs": [],
      "source": []
    },
    {
      "cell_type": "code",
      "source": [
        "def calculator(a,b,operation):\n",
        "    if operation==\"add\":\n",
        "      return a+b\n",
        "    elif operation==\"substract\":\n",
        "      return a-b\n",
        "    elif operation==\"divide\":\n",
        "      return a/b\n",
        "    else:\n",
        "     return \"invalid operator\"\n",
        "calculator(10,5, \"divide\")"
      ],
      "metadata": {
        "colab": {
          "base_uri": "https://localhost:8080/"
        },
        "id": "JUF2v5sUGqRu",
        "outputId": "fa9a89a8-c49c-49c8-f6c7-0e745cf2f541"
      },
      "execution_count": 1,
      "outputs": [
        {
          "output_type": "execute_result",
          "data": {
            "text/plain": [
              "2.0"
            ]
          },
          "metadata": {},
          "execution_count": 1
        }
      ]
    },
    {
      "cell_type": "code",
      "source": [],
      "metadata": {
        "id": "ekEoKDr8H5pp"
      },
      "execution_count": null,
      "outputs": []
    }
  ]
}